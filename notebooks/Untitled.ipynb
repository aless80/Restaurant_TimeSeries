{
 "cells": [
  {
   "cell_type": "code",
   "execution_count": 2,
   "metadata": {
    "collapsed": true
   },
   "outputs": [],
   "source": [
    "%matplotlib inline\n",
    "from IPython.core.interactiveshell import InteractiveShell\n",
    "InteractiveShell.ast_node_interactivity = \"all\""
   ]
  },
  {
   "cell_type": "code",
   "execution_count": 3,
   "metadata": {
    "collapsed": false
   },
   "outputs": [
    {
     "data": {
      "text/html": [
       "    <style>.container { width:90% !important;} </style>"
      ],
      "text/plain": [
       "<IPython.core.display.HTML object>"
      ]
     },
     "metadata": {},
     "output_type": "display_data"
    }
   ],
   "source": [
    "%%html\n",
    "    <style>.container { width:90% !important;} </style>"
   ]
  },
  {
   "cell_type": "code",
   "execution_count": 4,
   "metadata": {
    "collapsed": false
   },
   "outputs": [
    {
     "name": "stderr",
     "output_type": "stream",
     "text": [
      "/usr/local/lib/python2.7/dist-packages/sklearn/lda.py:4: DeprecationWarning: lda.LDA has been moved to discriminant_analysis.LinearDiscriminantAnalysis in 0.17 and will be removed in 0.19\n",
      "  \"in 0.17 and will be removed in 0.19\", DeprecationWarning)\n",
      "/usr/local/lib/python2.7/dist-packages/sklearn/qda.py:4: DeprecationWarning: qda.QDA has been moved to discriminant_analysis.QuadraticDiscriminantAnalysis in 0.17 and will be removed in 0.19.\n",
      "  \"in 0.17 and will be removed in 0.19.\", DeprecationWarning)\n"
     ]
    }
   ],
   "source": [
    "import pandas as pd\n",
    "import matplotlib.pyplot as plt\n",
    "import numpy as np\n",
    "import pandas as pd\n",
    "from sklearn import *\n",
    "from datetime import datetime\n",
    "import calendar"
   ]
  },
  {
   "cell_type": "code",
   "execution_count": null,
   "metadata": {
    "collapsed": true
   },
   "outputs": [],
   "source": []
  },
  {
   "cell_type": "code",
   "execution_count": null,
   "metadata": {
    "collapsed": true
   },
   "outputs": [],
   "source": [
    "import pandas as pd\n",
    "import matplotlib.pyplot as plt\n",
    "import numpy as np\n",
    "import pandas as pd\n",
    "from sklearn import *\n",
    "from datetime import datetime\n",
    "import calendar\n",
    "#\n",
    "air = pd.read_csv('../input/air_visit_data.csv', parse_dates=[1])\n",
    "air.set_index(['visit_date'], inplace=True)\n",
    "air.index.name=None\n",
    "air.drop('air_store_id',axis=1,inplace=True)\n",
    "df2=pd.DataFrame()\n",
    "df2['visit_total'] = air.groupby(air.index,squeeze=True,sort=True)['visitors'].sum()\n",
    "df2['visit_mean'] = air.groupby(air.index,squeeze=True,sort=True)['visitors'].mean()\n",
    "df2['reserv_cnt'] = air.groupby(air.index,squeeze=True,sort=True)['visitors'].count()\n",
    "air=df2;del df2\n",
    "\n",
    "#Get the date info with dow and holidays\n",
    "hol=pd.read_csv('../input/date_info.csv', parse_dates=True).rename(columns={'calendar_date':'visit_date'})\n",
    "hol['visit_date'] = pd.to_datetime(hol['visit_date'])\n",
    "hol.set_index(['visit_date'], inplace=True)\n",
    "hol.index.name=None\n",
    "hol.day_of_week = hol.day_of_week.apply(list(calendar.day_name).index)\n",
    "\n",
    "#Get the test submission\n",
    "test = pd.read_csv('../input/sample_submission.csv')\n",
    "test['store_id'], test['visit_date'] = test['id'].str[:20], test['id'].str[21:]\n",
    "test.set_index('visit_date', drop=True, inplace=True)\n",
    "test.index.name=None"
   ]
  },
  {
   "cell_type": "code",
   "execution_count": null,
   "metadata": {
    "collapsed": true
   },
   "outputs": [],
   "source": []
  },
  {
   "cell_type": "code",
   "execution_count": null,
   "metadata": {
    "collapsed": true
   },
   "outputs": [],
   "source": []
  },
  {
   "cell_type": "code",
   "execution_count": 5,
   "metadata": {
    "collapsed": false
   },
   "outputs": [
    {
     "name": "stdout",
     "output_type": "stream",
     "text": [
      "('there are ', 92378, ' restaurants with AIR and ', 871308, ' with HPG.', 150, ' have both.')\n"
     ]
    }
   ],
   "source": [
    "air = pd.read_csv('../input/air_reserve.csv')\n",
    "airstore = pd.read_csv('../input/air_store_info.csv')\n",
    "hpg = pd.read_csv('../input/hpg_reserve.csv')\n",
    "hpgstore = pd.read_csv('../input/hpg_store_info.csv')\n",
    "\n",
    "air = pd.merge(air,airstore,on='air_store_id')\n",
    "hpg = pd.merge(hpg,hpgstore,on='hpg_store_id')\n",
    "rel = pd.read_csv('../input/store_id_relation.csv')\n",
    "airrel = pd.merge(air,rel,how='left',on='air_store_id')\n",
    "hpgrel = pd.merge(hpg,rel,how='left',on='hpg_store_id')\n",
    "full = pd.merge(airrel,hpgrel,how='outer')\n",
    "print(\"there are \",len(air),\" restaurants with AIR and \",len(hpg),\" with HPG.\",len(rel),' have both.')"
   ]
  },
  {
   "cell_type": "code",
   "execution_count": 6,
   "metadata": {
    "collapsed": false
   },
   "outputs": [
    {
     "data": {
      "text/html": [
       "<div>\n",
       "<style>\n",
       "    .dataframe thead tr:only-child th {\n",
       "        text-align: right;\n",
       "    }\n",
       "\n",
       "    .dataframe thead th {\n",
       "        text-align: left;\n",
       "    }\n",
       "\n",
       "    .dataframe tbody tr th {\n",
       "        vertical-align: top;\n",
       "    }\n",
       "</style>\n",
       "<table border=\"1\" class=\"dataframe\">\n",
       "  <thead>\n",
       "    <tr style=\"text-align: right;\">\n",
       "      <th></th>\n",
       "      <th>air_store_id</th>\n",
       "      <th>visit_datetime</th>\n",
       "      <th>reserve_datetime</th>\n",
       "      <th>reserve_visitors</th>\n",
       "      <th>air_genre_name</th>\n",
       "      <th>air_area_name</th>\n",
       "      <th>latitude</th>\n",
       "      <th>longitude</th>\n",
       "      <th>hpg_store_id</th>\n",
       "      <th>hpg_genre_name</th>\n",
       "      <th>hpg_area_name</th>\n",
       "    </tr>\n",
       "  </thead>\n",
       "  <tbody>\n",
       "    <tr>\n",
       "      <th>0</th>\n",
       "      <td>air_877f79706adbfb06</td>\n",
       "      <td>2016-01-01 19:00:00</td>\n",
       "      <td>2016-01-01 16:00:00</td>\n",
       "      <td>1</td>\n",
       "      <td>Japanese food</td>\n",
       "      <td>Tōkyō-to Minato-ku Shibakōen</td>\n",
       "      <td>35.658068</td>\n",
       "      <td>139.751599</td>\n",
       "      <td>NaN</td>\n",
       "      <td>NaN</td>\n",
       "      <td>NaN</td>\n",
       "    </tr>\n",
       "    <tr>\n",
       "      <th>1</th>\n",
       "      <td>air_877f79706adbfb06</td>\n",
       "      <td>2016-01-01 20:00:00</td>\n",
       "      <td>2016-01-01 16:00:00</td>\n",
       "      <td>2</td>\n",
       "      <td>Japanese food</td>\n",
       "      <td>Tōkyō-to Minato-ku Shibakōen</td>\n",
       "      <td>35.658068</td>\n",
       "      <td>139.751599</td>\n",
       "      <td>NaN</td>\n",
       "      <td>NaN</td>\n",
       "      <td>NaN</td>\n",
       "    </tr>\n",
       "    <tr>\n",
       "      <th>2</th>\n",
       "      <td>air_877f79706adbfb06</td>\n",
       "      <td>2016-01-02 18:00:00</td>\n",
       "      <td>2016-01-01 16:00:00</td>\n",
       "      <td>2</td>\n",
       "      <td>Japanese food</td>\n",
       "      <td>Tōkyō-to Minato-ku Shibakōen</td>\n",
       "      <td>35.658068</td>\n",
       "      <td>139.751599</td>\n",
       "      <td>NaN</td>\n",
       "      <td>NaN</td>\n",
       "      <td>NaN</td>\n",
       "    </tr>\n",
       "    <tr>\n",
       "      <th>3</th>\n",
       "      <td>air_877f79706adbfb06</td>\n",
       "      <td>2016-01-02 21:00:00</td>\n",
       "      <td>2016-01-01 16:00:00</td>\n",
       "      <td>2</td>\n",
       "      <td>Japanese food</td>\n",
       "      <td>Tōkyō-to Minato-ku Shibakōen</td>\n",
       "      <td>35.658068</td>\n",
       "      <td>139.751599</td>\n",
       "      <td>NaN</td>\n",
       "      <td>NaN</td>\n",
       "      <td>NaN</td>\n",
       "    </tr>\n",
       "    <tr>\n",
       "      <th>4</th>\n",
       "      <td>air_877f79706adbfb06</td>\n",
       "      <td>2016-01-08 21:00:00</td>\n",
       "      <td>2016-01-04 20:00:00</td>\n",
       "      <td>2</td>\n",
       "      <td>Japanese food</td>\n",
       "      <td>Tōkyō-to Minato-ku Shibakōen</td>\n",
       "      <td>35.658068</td>\n",
       "      <td>139.751599</td>\n",
       "      <td>NaN</td>\n",
       "      <td>NaN</td>\n",
       "      <td>NaN</td>\n",
       "    </tr>\n",
       "  </tbody>\n",
       "</table>\n",
       "</div>"
      ],
      "text/plain": [
       "           air_store_id       visit_datetime     reserve_datetime  \\\n",
       "0  air_877f79706adbfb06  2016-01-01 19:00:00  2016-01-01 16:00:00   \n",
       "1  air_877f79706adbfb06  2016-01-01 20:00:00  2016-01-01 16:00:00   \n",
       "2  air_877f79706adbfb06  2016-01-02 18:00:00  2016-01-01 16:00:00   \n",
       "3  air_877f79706adbfb06  2016-01-02 21:00:00  2016-01-01 16:00:00   \n",
       "4  air_877f79706adbfb06  2016-01-08 21:00:00  2016-01-04 20:00:00   \n",
       "\n",
       "   reserve_visitors air_genre_name                 air_area_name   latitude  \\\n",
       "0                 1  Japanese food  Tōkyō-to Minato-ku Shibakōen  35.658068   \n",
       "1                 2  Japanese food  Tōkyō-to Minato-ku Shibakōen  35.658068   \n",
       "2                 2  Japanese food  Tōkyō-to Minato-ku Shibakōen  35.658068   \n",
       "3                 2  Japanese food  Tōkyō-to Minato-ku Shibakōen  35.658068   \n",
       "4                 2  Japanese food  Tōkyō-to Minato-ku Shibakōen  35.658068   \n",
       "\n",
       "    longitude hpg_store_id hpg_genre_name hpg_area_name  \n",
       "0  139.751599          NaN            NaN           NaN  \n",
       "1  139.751599          NaN            NaN           NaN  \n",
       "2  139.751599          NaN            NaN           NaN  \n",
       "3  139.751599          NaN            NaN           NaN  \n",
       "4  139.751599          NaN            NaN           NaN  "
      ]
     },
     "execution_count": 6,
     "metadata": {},
     "output_type": "execute_result"
    }
   ],
   "source": [
    "full.head()"
   ]
  },
  {
   "cell_type": "code",
   "execution_count": null,
   "metadata": {
    "collapsed": true
   },
   "outputs": [],
   "source": []
  },
  {
   "cell_type": "code",
   "execution_count": null,
   "metadata": {
    "collapsed": true
   },
   "outputs": [],
   "source": []
  }
 ],
 "metadata": {
  "kernelspec": {
   "display_name": "Python 2",
   "language": "python",
   "name": "python2"
  },
  "language_info": {
   "codemirror_mode": {
    "name": "ipython",
    "version": 2
   },
   "file_extension": ".py",
   "mimetype": "text/x-python",
   "name": "python",
   "nbconvert_exporter": "python",
   "pygments_lexer": "ipython2",
   "version": "2.7.6"
  },
  "widgets": {
   "state": {},
   "version": "1.1.2"
  }
 },
 "nbformat": 4,
 "nbformat_minor": 0
}
